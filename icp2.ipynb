{
 "cells": [
  {
   "cell_type": "code",
   "execution_count": 5,
   "id": "d8e6a2ac-6a5a-46d2-9e24-fde309b1dcba",
   "metadata": {},
   "outputs": [
    {
     "name": "stdin",
     "output_type": "stream",
     "text": [
      "enter number of employees 3\n",
      "enter name Raj\n",
      "enter how many family members 4\n",
      "enter salary 3000\n",
      "enter department EEE\n",
      "enter name Varun\n",
      "enter how many family members 4\n",
      "enter salary 2000\n",
      "enter department DEEE\n",
      "enter name Pranay\n",
      "enter how many family members 5\n",
      "enter salary 3500\n",
      "enter department MECH\n",
      "enter Full time employees 1\n",
      "enter name Hanoop\n",
      "enter how many family members 4\n",
      "enter salary 30000\n",
      "enter department CSE\n"
     ]
    },
    {
     "name": "stdout",
     "output_type": "stream",
     "text": [
      "The total Number of Employees(employee+Fulltime employee): 4\n",
      "the average salary of the all the Employees(employee+Fulltime employee): 19250.0\n"
     ]
    }
   ],
   "source": [
    "class Employee: \n",
    "\n",
    "  def count_emp(self,employee,fullemp): \n",
    "        print(\"The total Number of Employees(employee+Fulltime employee):\",len(employee+fullemp)) #counting number of employees.\n",
    "      \n",
    "  def __init__(self,name,family,salary,department): #constructor for name,family,salary and Department.\n",
    "        self.name =name \n",
    "        self.family =family \n",
    "        self.salary=salary \n",
    "        self.department=department \n",
    "        \n",
    "  def avg_salary(self,employee,fullemp):  #function for calculating the average salaryof all employees.\n",
    "       sum=0 \n",
    "       for i in employee: \n",
    "           sum=sum+i.salary \n",
    "       for i in fullemp: \n",
    "            sum=sum+i.salary \n",
    "       print(\"the average salary of the all the Employees(employee+Fulltime employee):\",sum/2) \n",
    "        \n",
    "class Fulltime_Employee(Employee): \n",
    "    pass \n",
    "n=int(input(\"enter number of employees\")) \n",
    "pe=[] \n",
    "for i in range(0,n):  #using for() loop,take the input dynamically.\n",
    "    na=input(\"enter name\") \n",
    "    f=int(input(\"enter how many family members\")) \n",
    "    s=int(input(\"enter salary\")) \n",
    "    d=input(\"enter department\") \n",
    "    obj=Employee(na,f,s,d) \n",
    "    pe.append(obj) \n",
    "full=int(input(\"enter Full time employees\")) \n",
    "fe=[] \n",
    "for i in range(0,full): \n",
    "    na=input(\"enter name\") \n",
    "    f=int(input(\"enter how many family members\")) \n",
    "    s=int(input(\"enter salary\")) \n",
    "    d=input(\"enter department\") \n",
    "    obj=Fulltime_Employee(na,f,s,d) \n",
    "    fe.append(obj) \n",
    "    \n",
    "result=Fulltime_Employee(na,f,s,d)  \n",
    "result.count_emp(pe,fe) #function call\n",
    "result.avg_salary(pe,fe) #function call"
   ]
  },
  {
   "cell_type": "code",
   "execution_count": 8,
   "id": "705eb708-7fbd-437a-b26f-3ab381d4f512",
   "metadata": {},
   "outputs": [
    {
     "name": "stdout",
     "output_type": "stream",
     "text": [
      "Vector : [ 1.  2.  3.  4.  5.  6.  7.  8.  9. 10. 11. 12. 13. 14. 15. 16. 17. 18.\n",
      " 19. 20.]\n",
      "Then reshape the array to 4 by 5: [[ 1.  2.  3.  4.  5.]\n",
      " [ 6.  7.  8.  9. 10.]\n",
      " [11. 12. 13. 14. 15.]\n",
      " [16. 17. 18. 19. 20.]]\n",
      "replace the max in each row by 0 (axis=1): [[ 1.  2.  3.  4.  0.]\n",
      " [ 6.  7.  8.  9.  0.]\n",
      " [11. 12. 13. 14.  0.]\n",
      " [16. 17. 18. 19.  0.]]\n"
     ]
    }
   ],
   "source": [
    "import numpy as np #import numpy\n",
    "ar = np.arange(1,21,dtype=float) #vector of size 1-20\n",
    "print(\"Vector :\",ar) \n",
    "ar=ar.reshape(4,5) #use reshape() to reshape the array into 4*5 \n",
    "print(\"Then reshape the array to 4 by 5:\",ar) \n",
    "def replace(ar): \n",
    "    var=ar \n",
    "    var[:,np.argmax(ar, axis=1)] = 0 \n",
    "    return var \n",
    "result= replace(ar) \n",
    "print(\"replace the max in each row by 0 (axis=1):\",result)"
   ]
  },
  {
   "cell_type": "code",
   "execution_count": null,
   "id": "321ab77e-8156-457c-b9c3-da76ad8ae2e3",
   "metadata": {},
   "outputs": [],
   "source": []
  }
 ],
 "metadata": {
  "kernelspec": {
   "display_name": "Python 3 (ipykernel)",
   "language": "python",
   "name": "python3"
  },
  "language_info": {
   "codemirror_mode": {
    "name": "ipython",
    "version": 3
   },
   "file_extension": ".py",
   "mimetype": "text/x-python",
   "name": "python",
   "nbconvert_exporter": "python",
   "pygments_lexer": "ipython3",
   "version": "3.11.7"
  }
 },
 "nbformat": 4,
 "nbformat_minor": 5
}
